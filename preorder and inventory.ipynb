{
 "cells": [
  {
   "cell_type": "code",
   "execution_count": 1,
   "id": "b13e04f0",
   "metadata": {},
   "outputs": [
    {
     "name": "stdout",
     "output_type": "stream",
     "text": [
      "Requirement already satisfied: vaderSentiment in c:\\users\\dell\\anaconda3\\lib\\site-packages (3.3.2)\n",
      "Requirement already satisfied: requests in c:\\users\\dell\\anaconda3\\lib\\site-packages (from vaderSentiment) (2.26.0)\n",
      "Requirement already satisfied: certifi>=2017.4.17 in c:\\users\\dell\\anaconda3\\lib\\site-packages (from requests->vaderSentiment) (2021.10.8)\n",
      "Requirement already satisfied: urllib3<1.27,>=1.21.1 in c:\\users\\dell\\anaconda3\\lib\\site-packages (from requests->vaderSentiment) (1.26.15)\n",
      "Requirement already satisfied: charset-normalizer~=2.0.0 in c:\\users\\dell\\anaconda3\\lib\\site-packages (from requests->vaderSentiment) (2.0.4)\n",
      "Requirement already satisfied: idna<4,>=2.5 in c:\\users\\dell\\anaconda3\\lib\\site-packages (from requests->vaderSentiment) (2.10)\n"
     ]
    },
    {
     "name": "stderr",
     "output_type": "stream",
     "text": [
      "WARNING: Ignoring invalid distribution -rotobuf (c:\\users\\dell\\anaconda3\\lib\\site-packages)\n",
      "WARNING: Ignoring invalid distribution - (c:\\users\\dell\\anaconda3\\lib\\site-packages)\n",
      "WARNING: Ignoring invalid distribution -rotobuf (c:\\users\\dell\\anaconda3\\lib\\site-packages)\n",
      "WARNING: Ignoring invalid distribution - (c:\\users\\dell\\anaconda3\\lib\\site-packages)\n",
      "WARNING: Ignoring invalid distribution -rotobuf (c:\\users\\dell\\anaconda3\\lib\\site-packages)\n",
      "WARNING: Ignoring invalid distribution - (c:\\users\\dell\\anaconda3\\lib\\site-packages)\n",
      "WARNING: Ignoring invalid distribution -rotobuf (c:\\users\\dell\\anaconda3\\lib\\site-packages)\n",
      "WARNING: Ignoring invalid distribution - (c:\\users\\dell\\anaconda3\\lib\\site-packages)\n",
      "WARNING: Ignoring invalid distribution -rotobuf (c:\\users\\dell\\anaconda3\\lib\\site-packages)\n",
      "WARNING: Ignoring invalid distribution - (c:\\users\\dell\\anaconda3\\lib\\site-packages)\n",
      "WARNING: Ignoring invalid distribution -rotobuf (c:\\users\\dell\\anaconda3\\lib\\site-packages)\n",
      "WARNING: Ignoring invalid distribution - (c:\\users\\dell\\anaconda3\\lib\\site-packages)\n"
     ]
    }
   ],
   "source": [
    "!pip install vaderSentiment"
   ]
  },
  {
   "cell_type": "code",
   "execution_count": 2,
   "id": "9339d423",
   "metadata": {},
   "outputs": [
    {
     "name": "stdout",
     "output_type": "stream",
     "text": [
      "Requirement already satisfied: nltk in c:\\users\\dell\\anaconda3\\lib\\site-packages (3.6.5)\n",
      "Requirement already satisfied: click in c:\\users\\dell\\anaconda3\\lib\\site-packages (from nltk) (8.0.3)\n",
      "Requirement already satisfied: joblib in c:\\users\\dell\\anaconda3\\lib\\site-packages (from nltk) (1.1.0)\n",
      "Requirement already satisfied: regex>=2021.8.3 in c:\\users\\dell\\anaconda3\\lib\\site-packages (from nltk) (2021.8.3)\n",
      "Requirement already satisfied: tqdm in c:\\users\\dell\\anaconda3\\lib\\site-packages (from nltk) (4.62.3)\n",
      "Requirement already satisfied: colorama in c:\\users\\dell\\anaconda3\\lib\\site-packages (from click->nltk) (0.4.4)\n"
     ]
    },
    {
     "name": "stderr",
     "output_type": "stream",
     "text": [
      "WARNING: Ignoring invalid distribution -rotobuf (c:\\users\\dell\\anaconda3\\lib\\site-packages)\n",
      "WARNING: Ignoring invalid distribution - (c:\\users\\dell\\anaconda3\\lib\\site-packages)\n",
      "WARNING: Ignoring invalid distribution -rotobuf (c:\\users\\dell\\anaconda3\\lib\\site-packages)\n",
      "WARNING: Ignoring invalid distribution - (c:\\users\\dell\\anaconda3\\lib\\site-packages)\n",
      "WARNING: Ignoring invalid distribution -rotobuf (c:\\users\\dell\\anaconda3\\lib\\site-packages)\n",
      "WARNING: Ignoring invalid distribution - (c:\\users\\dell\\anaconda3\\lib\\site-packages)\n",
      "WARNING: Ignoring invalid distribution -rotobuf (c:\\users\\dell\\anaconda3\\lib\\site-packages)\n",
      "WARNING: Ignoring invalid distribution - (c:\\users\\dell\\anaconda3\\lib\\site-packages)\n",
      "WARNING: Ignoring invalid distribution -rotobuf (c:\\users\\dell\\anaconda3\\lib\\site-packages)\n",
      "WARNING: Ignoring invalid distribution - (c:\\users\\dell\\anaconda3\\lib\\site-packages)\n",
      "WARNING: Ignoring invalid distribution -rotobuf (c:\\users\\dell\\anaconda3\\lib\\site-packages)\n",
      "WARNING: Ignoring invalid distribution - (c:\\users\\dell\\anaconda3\\lib\\site-packages)\n"
     ]
    }
   ],
   "source": [
    "!pip install nltk"
   ]
  },
  {
   "cell_type": "code",
   "execution_count": 3,
   "id": "2beb3f20",
   "metadata": {},
   "outputs": [
    {
     "name": "stdout",
     "output_type": "stream",
     "text": [
      "Requirement already satisfied: stop_words in c:\\users\\dell\\anaconda3\\lib\\site-packages (2018.7.23)\n"
     ]
    },
    {
     "name": "stderr",
     "output_type": "stream",
     "text": [
      "WARNING: Ignoring invalid distribution -rotobuf (c:\\users\\dell\\anaconda3\\lib\\site-packages)\n",
      "WARNING: Ignoring invalid distribution - (c:\\users\\dell\\anaconda3\\lib\\site-packages)\n",
      "WARNING: Ignoring invalid distribution -rotobuf (c:\\users\\dell\\anaconda3\\lib\\site-packages)\n",
      "WARNING: Ignoring invalid distribution - (c:\\users\\dell\\anaconda3\\lib\\site-packages)\n",
      "WARNING: Ignoring invalid distribution -rotobuf (c:\\users\\dell\\anaconda3\\lib\\site-packages)\n",
      "WARNING: Ignoring invalid distribution - (c:\\users\\dell\\anaconda3\\lib\\site-packages)\n",
      "WARNING: Ignoring invalid distribution -rotobuf (c:\\users\\dell\\anaconda3\\lib\\site-packages)\n",
      "WARNING: Ignoring invalid distribution - (c:\\users\\dell\\anaconda3\\lib\\site-packages)\n",
      "WARNING: Ignoring invalid distribution -rotobuf (c:\\users\\dell\\anaconda3\\lib\\site-packages)\n",
      "WARNING: Ignoring invalid distribution - (c:\\users\\dell\\anaconda3\\lib\\site-packages)\n",
      "WARNING: Ignoring invalid distribution -rotobuf (c:\\users\\dell\\anaconda3\\lib\\site-packages)\n",
      "WARNING: Ignoring invalid distribution - (c:\\users\\dell\\anaconda3\\lib\\site-packages)\n"
     ]
    }
   ],
   "source": [
    "!pip install stop_words"
   ]
  },
  {
   "cell_type": "markdown",
   "id": "5add040e",
   "metadata": {},
   "source": [
    "# Importing all libraries"
   ]
  },
  {
   "cell_type": "code",
   "execution_count": 4,
   "id": "25f624e6",
   "metadata": {},
   "outputs": [
    {
     "name": "stderr",
     "output_type": "stream",
     "text": [
      "[nltk_data] Downloading package punkt to\n",
      "[nltk_data]     C:\\Users\\Dell\\AppData\\Roaming\\nltk_data...\n",
      "[nltk_data]   Package punkt is already up-to-date!\n",
      "[nltk_data] Downloading package stopwords to\n",
      "[nltk_data]     C:\\Users\\Dell\\AppData\\Roaming\\nltk_data...\n",
      "[nltk_data]   Package stopwords is already up-to-date!\n",
      "[nltk_data] Downloading package wordnet to\n",
      "[nltk_data]     C:\\Users\\Dell\\AppData\\Roaming\\nltk_data...\n",
      "[nltk_data]   Package wordnet is already up-to-date!\n",
      "[nltk_data] Downloading package averaged_perceptron_tagger to\n",
      "[nltk_data]     C:\\Users\\Dell\\AppData\\Roaming\\nltk_data...\n",
      "[nltk_data]   Package averaged_perceptron_tagger is already up-to-\n",
      "[nltk_data]       date!\n",
      "[nltk_data] Downloading package sentiwordnet to\n",
      "[nltk_data]     C:\\Users\\Dell\\AppData\\Roaming\\nltk_data...\n",
      "[nltk_data]   Package sentiwordnet is already up-to-date!\n"
     ]
    },
    {
     "data": {
      "text/plain": [
       "True"
      ]
     },
     "execution_count": 4,
     "metadata": {},
     "output_type": "execute_result"
    }
   ],
   "source": [
    "import json\n",
    "import pandas as pd\n",
    "import numpy as np\n",
    "import os\n",
    "import re\n",
    "import sys\n",
    "import nltk\n",
    "nltk.download('punkt')\n",
    "nltk.download('stopwords')\n",
    "nltk.download('wordnet')\n",
    "nltk.download('averaged_perceptron_tagger')\n",
    "nltk.download('sentiwordnet')"
   ]
  },
  {
   "cell_type": "code",
   "execution_count": 5,
   "id": "05d3e4db",
   "metadata": {},
   "outputs": [],
   "source": [
    "from nltk.corpus import stopwords\n",
    "from nltk.corpus import wordnet\n",
    "from nltk.corpus import sentiwordnet as swn\n",
    "from nltk.stem import WordNetLemmatizer\n",
    "from nltk import ngrams\n",
    "from sklearn.feature_extraction.text import CountVectorizer\n",
    "from sklearn.decomposition import LatentDirichletAllocation\n",
    "from sklearn.metrics import f1_score, precision_score, recall_score\n",
    "import collections\n",
    "from vaderSentiment.vaderSentiment import SentimentIntensityAnalyzer\n",
    "import stop_words\n",
    "import matplotlib.pyplot as plt\n",
    "from wordcloud import WordCloud\n",
    "import gzip\n",
    "import pickle\n",
    "import tensorflow as tf"
   ]
  },
  {
   "cell_type": "code",
   "execution_count": 6,
   "id": "83cb1c44",
   "metadata": {},
   "outputs": [],
   "source": [
    "pre_order_df = pd.read_csv('Datasets/Inflight Service_Pre order data.csv')\n",
    "inventory_df = pd.read_csv('Datasets/Inflight Service_Inventory data.csv')"
   ]
  },
  {
   "cell_type": "code",
   "execution_count": 7,
   "id": "524c2855",
   "metadata": {},
   "outputs": [],
   "source": [
    "pre_order_df = pre_order_df[['flight_number','meal_group', 'meal_category', 'meal_short_description','meal_description',  'pre_order_qty']]"
   ]
  },
  {
   "cell_type": "code",
   "execution_count": 8,
   "id": "43d59aec",
   "metadata": {},
   "outputs": [],
   "source": [
    "totalpreord_per_meal = pre_order_df.groupby('meal_short_description')['pre_order_qty'].sum().reset_index()"
   ]
  },
  {
   "cell_type": "code",
   "execution_count": 12,
   "id": "4b5e5095",
   "metadata": {},
   "outputs": [],
   "source": [
    "totalpreord_per_meal = totalpreord_per_meal.sort_values(by='pre_order_qty', ascending=False)"
   ]
  },
  {
   "cell_type": "code",
   "execution_count": 13,
   "id": "59e17e63",
   "metadata": {},
   "outputs": [
    {
     "data": {
      "text/html": [
       "<div>\n",
       "<style scoped>\n",
       "    .dataframe tbody tr th:only-of-type {\n",
       "        vertical-align: middle;\n",
       "    }\n",
       "\n",
       "    .dataframe tbody tr th {\n",
       "        vertical-align: top;\n",
       "    }\n",
       "\n",
       "    .dataframe thead th {\n",
       "        text-align: right;\n",
       "    }\n",
       "</style>\n",
       "<table border=\"1\" class=\"dataframe\">\n",
       "  <thead>\n",
       "    <tr style=\"text-align: right;\">\n",
       "      <th></th>\n",
       "      <th>meal_short_description</th>\n",
       "      <th>pre_order_qty</th>\n",
       "    </tr>\n",
       "  </thead>\n",
       "  <tbody>\n",
       "    <tr>\n",
       "      <th>102</th>\n",
       "      <td>Za’atar chicken</td>\n",
       "      <td>36135</td>\n",
       "    </tr>\n",
       "    <tr>\n",
       "      <th>12</th>\n",
       "      <td>Brioche cheeseburger</td>\n",
       "      <td>33687</td>\n",
       "    </tr>\n",
       "    <tr>\n",
       "      <th>75</th>\n",
       "      <td>Scrambled eggs</td>\n",
       "      <td>26099</td>\n",
       "    </tr>\n",
       "    <tr>\n",
       "      <th>45</th>\n",
       "      <td>Impossible™ Meatball Bowl</td>\n",
       "      <td>20757</td>\n",
       "    </tr>\n",
       "    <tr>\n",
       "      <th>8</th>\n",
       "      <td>Belgium waffle</td>\n",
       "      <td>18568</td>\n",
       "    </tr>\n",
       "  </tbody>\n",
       "</table>\n",
       "</div>"
      ],
      "text/plain": [
       "        meal_short_description  pre_order_qty\n",
       "102            Za’atar chicken          36135\n",
       "12        Brioche cheeseburger          33687\n",
       "75              Scrambled eggs          26099\n",
       "45   Impossible™ Meatball Bowl          20757\n",
       "8               Belgium waffle          18568"
      ]
     },
     "execution_count": 13,
     "metadata": {},
     "output_type": "execute_result"
    }
   ],
   "source": [
    "totalpreord_per_meal.head(5)"
   ]
  },
  {
   "cell_type": "code",
   "execution_count": 14,
   "id": "af68e5a4",
   "metadata": {},
   "outputs": [
    {
     "name": "stdout",
     "output_type": "stream",
     "text": [
      "10 Most Preordered Meals:\n",
      "                                meal_short_description  pre_order_qty\n",
      "102                                    Za’atar chicken          36135\n",
      "12                                Brioche cheeseburger          33687\n",
      "75                                      Scrambled eggs          26099\n",
      "45                           Impossible™ Meatball Bowl          20757\n",
      "8                                       Belgium waffle          18568\n",
      "89                                             Takeoff          13437\n",
      "90                                               Tapas          13008\n",
      "93                           Tomato and kale baked egg          11235\n",
      "101  Za'atar chicken with spinach, roasted peppers,...           8694\n",
      "96                   Vegetarian chili and polenta cake           8063\n",
      "\n",
      "10 Least Preordered Meals:\n",
      "                               meal_short_description  pre_order_qty\n",
      "43                              I will decide onboard              0\n",
      "44               I would like to go directly to sleep              0\n",
      "95                        Vegetarian (Non-Dairy) Meal              0\n",
      "42                               I do not want to eat              0\n",
      "2                               Asian Vegetarian Meal              0\n",
      "50                                        Kosher Meal              0\n",
      "32                                   Gluten-free Meal              0\n",
      "41  I am a United Club member and will eat there b...              0\n",
      "9                                         Bhuta palak              1\n",
      "60                                        Penne pasta              1\n"
     ]
    }
   ],
   "source": [
    "most_preordered = totalpreord_per_meal.sort_values(by='pre_order_qty', ascending=False).head(10)\n",
    "\n",
    "# Sort the DataFrame by pre_order_qty to find least preordered meals\n",
    "least_preordered = totalpreord_per_meal.sort_values(by='pre_order_qty').head(10)\n",
    "\n",
    "print(\"10 Most Preordered Meals:\")\n",
    "print(most_preordered)\n",
    "\n",
    "print(\"\\n10 Least Preordered Meals:\")\n",
    "print(least_preordered)"
   ]
  },
  {
   "cell_type": "code",
   "execution_count": 15,
   "id": "4dded0b7",
   "metadata": {},
   "outputs": [
    {
     "data": {
      "text/html": [
       "<div>\n",
       "<style scoped>\n",
       "    .dataframe tbody tr th:only-of-type {\n",
       "        vertical-align: middle;\n",
       "    }\n",
       "\n",
       "    .dataframe tbody tr th {\n",
       "        vertical-align: top;\n",
       "    }\n",
       "\n",
       "    .dataframe thead th {\n",
       "        text-align: right;\n",
       "    }\n",
       "</style>\n",
       "<table border=\"1\" class=\"dataframe\">\n",
       "  <thead>\n",
       "    <tr style=\"text-align: right;\">\n",
       "      <th></th>\n",
       "      <th>flight_number</th>\n",
       "      <th>departure_station_code</th>\n",
       "      <th>arrival_station_code</th>\n",
       "      <th>scheduled_departure_dtl</th>\n",
       "      <th>entree_product_id</th>\n",
       "      <th>entree_description</th>\n",
       "      <th>entree_code</th>\n",
       "      <th>planned_entree_count</th>\n",
       "      <th>consumed_entree_count</th>\n",
       "    </tr>\n",
       "  </thead>\n",
       "  <tbody>\n",
       "    <tr>\n",
       "      <th>0</th>\n",
       "      <td>2634</td>\n",
       "      <td>IAX</td>\n",
       "      <td>PDX</td>\n",
       "      <td>9/1/2022</td>\n",
       "      <td>58019</td>\n",
       "      <td>Belgium waffle</td>\n",
       "      <td>WF</td>\n",
       "      <td>20</td>\n",
       "      <td>32</td>\n",
       "    </tr>\n",
       "    <tr>\n",
       "      <th>1</th>\n",
       "      <td>2666</td>\n",
       "      <td>ORX</td>\n",
       "      <td>IAX</td>\n",
       "      <td>9/1/2022</td>\n",
       "      <td>60549</td>\n",
       "      <td>Vegetarian chili and polenta cake</td>\n",
       "      <td>V</td>\n",
       "      <td>3</td>\n",
       "      <td>0</td>\n",
       "    </tr>\n",
       "    <tr>\n",
       "      <th>2</th>\n",
       "      <td>2310</td>\n",
       "      <td>DEX</td>\n",
       "      <td>SAX</td>\n",
       "      <td>9/2/2022</td>\n",
       "      <td>58981</td>\n",
       "      <td>Scrambled eggs</td>\n",
       "      <td>O</td>\n",
       "      <td>9</td>\n",
       "      <td>7</td>\n",
       "    </tr>\n",
       "    <tr>\n",
       "      <th>3</th>\n",
       "      <td>1712</td>\n",
       "      <td>SFX</td>\n",
       "      <td>CLX</td>\n",
       "      <td>9/4/2022</td>\n",
       "      <td>58764</td>\n",
       "      <td>Mediterranean Falafel Bowl</td>\n",
       "      <td>V</td>\n",
       "      <td>1</td>\n",
       "      <td>0</td>\n",
       "    </tr>\n",
       "    <tr>\n",
       "      <th>4</th>\n",
       "      <td>1225</td>\n",
       "      <td>LAX</td>\n",
       "      <td>HNX</td>\n",
       "      <td>9/8/2022</td>\n",
       "      <td>60549</td>\n",
       "      <td>Vegetarian chili and polenta cake</td>\n",
       "      <td>V</td>\n",
       "      <td>1</td>\n",
       "      <td>0</td>\n",
       "    </tr>\n",
       "    <tr>\n",
       "      <th>5</th>\n",
       "      <td>2637</td>\n",
       "      <td>CLX</td>\n",
       "      <td>MCX</td>\n",
       "      <td>9/12/2022</td>\n",
       "      <td>58019</td>\n",
       "      <td>Belgium waffle</td>\n",
       "      <td>WF</td>\n",
       "      <td>16</td>\n",
       "      <td>16</td>\n",
       "    </tr>\n",
       "    <tr>\n",
       "      <th>6</th>\n",
       "      <td>1691</td>\n",
       "      <td>DEX</td>\n",
       "      <td>SAX</td>\n",
       "      <td>9/12/2022</td>\n",
       "      <td>58574</td>\n",
       "      <td>Belgium waffle</td>\n",
       "      <td>WF</td>\n",
       "      <td>6</td>\n",
       "      <td>2</td>\n",
       "    </tr>\n",
       "    <tr>\n",
       "      <th>7</th>\n",
       "      <td>592</td>\n",
       "      <td>SEX</td>\n",
       "      <td>EWX</td>\n",
       "      <td>9/13/2022</td>\n",
       "      <td>60983</td>\n",
       "      <td>Zatar chicken</td>\n",
       "      <td>C</td>\n",
       "      <td>22</td>\n",
       "      <td>22</td>\n",
       "    </tr>\n",
       "    <tr>\n",
       "      <th>8</th>\n",
       "      <td>1618</td>\n",
       "      <td>LAX</td>\n",
       "      <td>ORX</td>\n",
       "      <td>9/13/2022</td>\n",
       "      <td>60987</td>\n",
       "      <td>Impossible Meatball Bowl</td>\n",
       "      <td>V</td>\n",
       "      <td>7</td>\n",
       "      <td>4</td>\n",
       "    </tr>\n",
       "    <tr>\n",
       "      <th>9</th>\n",
       "      <td>2087</td>\n",
       "      <td>IAX</td>\n",
       "      <td>LAX</td>\n",
       "      <td>9/13/2022</td>\n",
       "      <td>60983</td>\n",
       "      <td>Zatar chicken</td>\n",
       "      <td>C</td>\n",
       "      <td>10</td>\n",
       "      <td>9</td>\n",
       "    </tr>\n",
       "  </tbody>\n",
       "</table>\n",
       "</div>"
      ],
      "text/plain": [
       "   flight_number departure_station_code arrival_station_code  \\\n",
       "0           2634                    IAX                  PDX   \n",
       "1           2666                    ORX                  IAX   \n",
       "2           2310                    DEX                  SAX   \n",
       "3           1712                    SFX                  CLX   \n",
       "4           1225                    LAX                  HNX   \n",
       "5           2637                    CLX                  MCX   \n",
       "6           1691                    DEX                  SAX   \n",
       "7            592                    SEX                  EWX   \n",
       "8           1618                    LAX                  ORX   \n",
       "9           2087                    IAX                  LAX   \n",
       "\n",
       "  scheduled_departure_dtl  entree_product_id  \\\n",
       "0                9/1/2022              58019   \n",
       "1                9/1/2022              60549   \n",
       "2                9/2/2022              58981   \n",
       "3                9/4/2022              58764   \n",
       "4                9/8/2022              60549   \n",
       "5               9/12/2022              58019   \n",
       "6               9/12/2022              58574   \n",
       "7               9/13/2022              60983   \n",
       "8               9/13/2022              60987   \n",
       "9               9/13/2022              60983   \n",
       "\n",
       "                  entree_description entree_code  planned_entree_count  \\\n",
       "0                     Belgium waffle          WF                    20   \n",
       "1  Vegetarian chili and polenta cake           V                     3   \n",
       "2                     Scrambled eggs           O                     9   \n",
       "3         Mediterranean Falafel Bowl           V                     1   \n",
       "4  Vegetarian chili and polenta cake           V                     1   \n",
       "5                     Belgium waffle          WF                    16   \n",
       "6                     Belgium waffle          WF                     6   \n",
       "7                      Zatar chicken           C                    22   \n",
       "8           Impossible Meatball Bowl           V                     7   \n",
       "9                      Zatar chicken           C                    10   \n",
       "\n",
       "   consumed_entree_count  \n",
       "0                     32  \n",
       "1                      0  \n",
       "2                      7  \n",
       "3                      0  \n",
       "4                      0  \n",
       "5                     16  \n",
       "6                      2  \n",
       "7                     22  \n",
       "8                      4  \n",
       "9                      9  "
      ]
     },
     "execution_count": 15,
     "metadata": {},
     "output_type": "execute_result"
    }
   ],
   "source": [
    "inventory_df.head(10)"
   ]
  },
  {
   "cell_type": "code",
   "execution_count": 16,
   "id": "dc78f21a",
   "metadata": {},
   "outputs": [],
   "source": [
    "inventory_df = inventory_df[['flight_number', 'entree_product_id', 'entree_description', 'planned_entree_count', \n",
    "                             'consumed_entree_count' ]]"
   ]
  },
  {
   "cell_type": "code",
   "execution_count": 17,
   "id": "fdf600bf",
   "metadata": {},
   "outputs": [],
   "source": [
    "invent_newdf = inventory_df.groupby(['entree_description'])[['planned_entree_count', 'consumed_entree_count']].sum().reset_index()"
   ]
  },
  {
   "cell_type": "code",
   "execution_count": 19,
   "id": "24422933",
   "metadata": {},
   "outputs": [
    {
     "data": {
      "text/html": [
       "<div>\n",
       "<style scoped>\n",
       "    .dataframe tbody tr th:only-of-type {\n",
       "        vertical-align: middle;\n",
       "    }\n",
       "\n",
       "    .dataframe tbody tr th {\n",
       "        vertical-align: top;\n",
       "    }\n",
       "\n",
       "    .dataframe thead th {\n",
       "        text-align: right;\n",
       "    }\n",
       "</style>\n",
       "<table border=\"1\" class=\"dataframe\">\n",
       "  <thead>\n",
       "    <tr style=\"text-align: right;\">\n",
       "      <th></th>\n",
       "      <th>entree_description</th>\n",
       "      <th>planned_entree_count</th>\n",
       "      <th>consumed_entree_count</th>\n",
       "    </tr>\n",
       "  </thead>\n",
       "  <tbody>\n",
       "    <tr>\n",
       "      <th>0</th>\n",
       "      <td>ASIAN VEGETARIAN MEAL</td>\n",
       "      <td>606</td>\n",
       "      <td>354</td>\n",
       "    </tr>\n",
       "    <tr>\n",
       "      <th>1</th>\n",
       "      <td>Arepa and black bean relish</td>\n",
       "      <td>2</td>\n",
       "      <td>0</td>\n",
       "    </tr>\n",
       "    <tr>\n",
       "      <th>2</th>\n",
       "      <td>Bangus fish</td>\n",
       "      <td>165</td>\n",
       "      <td>0</td>\n",
       "    </tr>\n",
       "    <tr>\n",
       "      <th>3</th>\n",
       "      <td>Beef and onion stew in red wine sauce</td>\n",
       "      <td>249</td>\n",
       "      <td>0</td>\n",
       "    </tr>\n",
       "    <tr>\n",
       "      <th>4</th>\n",
       "      <td>Beef burger</td>\n",
       "      <td>145</td>\n",
       "      <td>105</td>\n",
       "    </tr>\n",
       "  </tbody>\n",
       "</table>\n",
       "</div>"
      ],
      "text/plain": [
       "                      entree_description  planned_entree_count  \\\n",
       "0                  ASIAN VEGETARIAN MEAL                   606   \n",
       "1            Arepa and black bean relish                     2   \n",
       "2                            Bangus fish                   165   \n",
       "3  Beef and onion stew in red wine sauce                   249   \n",
       "4                            Beef burger                   145   \n",
       "\n",
       "   consumed_entree_count  \n",
       "0                    354  \n",
       "1                      0  \n",
       "2                      0  \n",
       "3                      0  \n",
       "4                    105  "
      ]
     },
     "execution_count": 19,
     "metadata": {},
     "output_type": "execute_result"
    }
   ],
   "source": [
    "invent_newdf.head(5)"
   ]
  },
  {
   "cell_type": "markdown",
   "id": "e7cc9e9d",
   "metadata": {},
   "source": [
    "# Food Wastage"
   ]
  },
  {
   "cell_type": "code",
   "execution_count": 20,
   "id": "b7b5503a",
   "metadata": {},
   "outputs": [
    {
     "name": "stdout",
     "output_type": "stream",
     "text": [
      "Total Food Wastage: 257293\n",
      "\n",
      "Top 10 Wasted Food Entree Descriptions:\n",
      "                    entree_description  planned_entree_count  \\\n",
      "100                      Zatar chicken                137864   \n",
      "56            Impossible Meatball Bowl                 87523   \n",
      "6                       Belgium waffle                 55022   \n",
      "79                      Scrambled eggs                 60331   \n",
      "9                 Brioche cheeseburger                 18693   \n",
      "95           Tomato and kale baked egg                  9426   \n",
      "26       Classic selection cheese tray                  8937   \n",
      "16               Chicken breast entree                  7821   \n",
      "98   Vegetarian chili and polenta cake                  4516   \n",
      "64          Mediterranean Falafel Bowl                  4054   \n",
      "\n",
      "     consumed_entree_count  food_wastage  \n",
      "100                  63307         74557  \n",
      "56                   35155         52368  \n",
      "6                    23037         31985  \n",
      "79                   31439         28892  \n",
      "9                     4311         14382  \n",
      "95                    2494          6932  \n",
      "26                    3811          5126  \n",
      "16                    4152          3669  \n",
      "98                     848          3668  \n",
      "64                     735          3319  \n"
     ]
    }
   ],
   "source": [
    "invent_newdf['food_wastage'] = invent_newdf['planned_entree_count'] - invent_newdf['consumed_entree_count']\n",
    "\n",
    "# Filter rows with positive food wastage\n",
    "food_wastage_df = invent_newdf[invent_newdf['food_wastage'] > 0]\n",
    "\n",
    "# Sort by food wastage in descending order\n",
    "top_wasted_food = food_wastage_df.sort_values(by='food_wastage', ascending=False).head(10)\n",
    "\n",
    "# Calculate total food wastage\n",
    "total_food_wastage = food_wastage_df['food_wastage'].sum()\n",
    "\n",
    "print(\"Total Food Wastage:\", total_food_wastage)\n",
    "print(\"\\nTop 10 Wasted Food Entree Descriptions:\")\n",
    "print(top_wasted_food)"
   ]
  },
  {
   "cell_type": "code",
   "execution_count": null,
   "id": "f2f20cba",
   "metadata": {},
   "outputs": [],
   "source": []
  }
 ],
 "metadata": {
  "kernelspec": {
   "display_name": "Python 3 (ipykernel)",
   "language": "python",
   "name": "python3"
  },
  "language_info": {
   "codemirror_mode": {
    "name": "ipython",
    "version": 3
   },
   "file_extension": ".py",
   "mimetype": "text/x-python",
   "name": "python",
   "nbconvert_exporter": "python",
   "pygments_lexer": "ipython3",
   "version": "3.9.7"
  }
 },
 "nbformat": 4,
 "nbformat_minor": 5
}
